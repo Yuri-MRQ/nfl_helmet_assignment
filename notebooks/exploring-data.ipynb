{
 "cells": [
  {
   "cell_type": "code",
   "execution_count": 1,
   "id": "2f1e5ca1",
   "metadata": {},
   "outputs": [],
   "source": [
    "import matplotlib.pyplot as plt"
   ]
  },
  {
   "cell_type": "code",
   "execution_count": 2,
   "id": "75165bb8",
   "metadata": {},
   "outputs": [],
   "source": [
    "import pandas as pd"
   ]
  },
  {
   "cell_type": "code",
   "execution_count": 3,
   "id": "a85c0196",
   "metadata": {},
   "outputs": [],
   "source": [
    "import os"
   ]
  },
  {
   "cell_type": "code",
   "execution_count": 7,
   "id": "d3dadfd6",
   "metadata": {},
   "outputs": [
    {
     "name": "stdout",
     "output_type": "stream",
     "text": [
      "image_labels.csv\n",
      "sample_submission.csv\n",
      "test_baseline_helmets.csv\n",
      "test_player_tracking.csv\n",
      "train_baseline_helmets.csv\n",
      "train_labels.csv\n",
      "train_player_tracking.csv\n"
     ]
    },
    {
     "data": {
      "text/plain": [
       "0"
      ]
     },
     "execution_count": 7,
     "metadata": {},
     "output_type": "execute_result"
    }
   ],
   "source": [
    "os.system('ls ../files')"
   ]
  },
  {
   "cell_type": "code",
   "execution_count": 8,
   "id": "113be602",
   "metadata": {},
   "outputs": [],
   "source": [
    "image_labels = pd.read_csv('../files/image_labels.csv')"
   ]
  },
  {
   "cell_type": "code",
   "execution_count": 9,
   "id": "426b04fc",
   "metadata": {},
   "outputs": [
    {
     "data": {
      "text/html": [
       "<div>\n",
       "<style scoped>\n",
       "    .dataframe tbody tr th:only-of-type {\n",
       "        vertical-align: middle;\n",
       "    }\n",
       "\n",
       "    .dataframe tbody tr th {\n",
       "        vertical-align: top;\n",
       "    }\n",
       "\n",
       "    .dataframe thead th {\n",
       "        text-align: right;\n",
       "    }\n",
       "</style>\n",
       "<table border=\"1\" class=\"dataframe\">\n",
       "  <thead>\n",
       "    <tr style=\"text-align: right;\">\n",
       "      <th></th>\n",
       "      <th>image</th>\n",
       "      <th>label</th>\n",
       "      <th>left</th>\n",
       "      <th>width</th>\n",
       "      <th>top</th>\n",
       "      <th>height</th>\n",
       "    </tr>\n",
       "  </thead>\n",
       "  <tbody>\n",
       "    <tr>\n",
       "      <th>0</th>\n",
       "      <td>57503_000116_Endzone_frame443.jpg</td>\n",
       "      <td>Helmet</td>\n",
       "      <td>1099</td>\n",
       "      <td>16</td>\n",
       "      <td>456</td>\n",
       "      <td>15</td>\n",
       "    </tr>\n",
       "    <tr>\n",
       "      <th>1</th>\n",
       "      <td>57503_000116_Endzone_frame443.jpg</td>\n",
       "      <td>Helmet</td>\n",
       "      <td>1117</td>\n",
       "      <td>15</td>\n",
       "      <td>478</td>\n",
       "      <td>16</td>\n",
       "    </tr>\n",
       "    <tr>\n",
       "      <th>2</th>\n",
       "      <td>57503_000116_Endzone_frame443.jpg</td>\n",
       "      <td>Helmet</td>\n",
       "      <td>828</td>\n",
       "      <td>16</td>\n",
       "      <td>511</td>\n",
       "      <td>15</td>\n",
       "    </tr>\n",
       "    <tr>\n",
       "      <th>3</th>\n",
       "      <td>57503_000116_Endzone_frame443.jpg</td>\n",
       "      <td>Helmet</td>\n",
       "      <td>746</td>\n",
       "      <td>16</td>\n",
       "      <td>519</td>\n",
       "      <td>16</td>\n",
       "    </tr>\n",
       "    <tr>\n",
       "      <th>4</th>\n",
       "      <td>57503_000116_Endzone_frame443.jpg</td>\n",
       "      <td>Helmet</td>\n",
       "      <td>678</td>\n",
       "      <td>17</td>\n",
       "      <td>554</td>\n",
       "      <td>17</td>\n",
       "    </tr>\n",
       "  </tbody>\n",
       "</table>\n",
       "</div>"
      ],
      "text/plain": [
       "                               image   label  left  width  top  height\n",
       "0  57503_000116_Endzone_frame443.jpg  Helmet  1099     16  456      15\n",
       "1  57503_000116_Endzone_frame443.jpg  Helmet  1117     15  478      16\n",
       "2  57503_000116_Endzone_frame443.jpg  Helmet   828     16  511      15\n",
       "3  57503_000116_Endzone_frame443.jpg  Helmet   746     16  519      16\n",
       "4  57503_000116_Endzone_frame443.jpg  Helmet   678     17  554      17"
      ]
     },
     "execution_count": 9,
     "metadata": {},
     "output_type": "execute_result"
    }
   ],
   "source": [
    "image_labels.head()"
   ]
  },
  {
   "cell_type": "code",
   "execution_count": null,
   "id": "828cc96d",
   "metadata": {},
   "outputs": [],
   "source": [
    "# make one boundboxiung to see"
   ]
  }
 ],
 "metadata": {
  "kernelspec": {
   "display_name": "Python 3 (ipykernel)",
   "language": "python",
   "name": "python3"
  },
  "language_info": {
   "codemirror_mode": {
    "name": "ipython",
    "version": 3
   },
   "file_extension": ".py",
   "mimetype": "text/x-python",
   "name": "python",
   "nbconvert_exporter": "python",
   "pygments_lexer": "ipython3",
   "version": "3.8.2"
  }
 },
 "nbformat": 4,
 "nbformat_minor": 5
}
